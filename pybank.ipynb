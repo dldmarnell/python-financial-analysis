{
 "cells": [
  {
   "cell_type": "markdown",
   "metadata": {},
   "source": [
    "## Python Homework: Pybank\n",
    "Reads a csv file of date and profit/loss data.  Calculates total months, total profit/loss, average profit/loss, lowest and highest profit/loss months, prints and writes a text file of financial analysis findings."
   ]
  },
  {
   "cell_type": "code",
   "execution_count": 11,
   "metadata": {},
   "outputs": [],
   "source": [
    "# Import libraries and classes\n",
    "from pathlib import Path\n",
    "import csv"
   ]
  },
  {
   "cell_type": "code",
   "execution_count": 12,
   "metadata": {},
   "outputs": [],
   "source": [
    "# Function for reading csv file into a dictionary\n",
    "# Input: path/to/file\n",
    "# Output: Dictionary date:profit_loss\n",
    "def csv_dict(filepath):\n",
    "    data_dict = {}\n",
    "    counter = 0\n",
    "    with open(csvpath, \"r\") as csvfile:\n",
    "        csvreader = csv.reader(csvfile, delimiter = \",\")\n",
    "        header = next(csvreader)\n",
    "        counter += 1\n",
    "        for line in csvreader:\n",
    "            date = line[0]\n",
    "            profit_loss = int(line[1])\n",
    "            data_dict[date] = profit_loss\n",
    "    return data_dict"
   ]
  },
  {
   "cell_type": "code",
   "execution_count": 13,
   "metadata": {},
   "outputs": [],
   "source": [
    "# Function to caluclate average\n",
    "# Input: List of profit/loss integers\n",
    "# Output: Float average of profit/loss integers\n",
    "def calculate_average(data_list):\n",
    "    average = round(sum(data_list)/len(data_list), 2)\n",
    "    return average"
   ]
  },
  {
   "cell_type": "code",
   "execution_count": 15,
   "metadata": {},
   "outputs": [],
   "source": [
    "# Call csv_dict function to create profit/loss dictionary from data.csv\n",
    "csvpath = Path(\"Resources/data.csv\") \n",
    "budget_dict = csv_dict(csvpath)"
   ]
  },
  {
   "cell_type": "code",
   "execution_count": 16,
   "metadata": {},
   "outputs": [],
   "source": [
    "# Find the number of months\n",
    "total_months = len(budget_dict)"
   ]
  },
  {
   "cell_type": "code",
   "execution_count": 17,
   "metadata": {},
   "outputs": [],
   "source": [
    "# Create list of profit/loss data\n",
    "pl_data = list(budget_dict.values())"
   ]
  },
  {
   "cell_type": "code",
   "execution_count": 18,
   "metadata": {},
   "outputs": [],
   "source": [
    "# Find total profit/losses over the period\n",
    "total_pl_data = sum(pl_data)"
   ]
  },
  {
   "cell_type": "code",
   "execution_count": 19,
   "metadata": {},
   "outputs": [],
   "source": [
    "# Calculate average of the changes in profit/losses over the period\n",
    "# Find greatest increase in profits (date and amount) over the entire period\n",
    "# Find greatest decrease in losses (date and amount) over the entire period\n",
    "\n",
    "changes = []\n",
    "counter = 0\n",
    "highest_profit = 0\n",
    "high_month = 0\n",
    "lowest_loss = 0\n",
    "low_month = 0\n",
    "\n",
    "for data in pl_data:\n",
    "    change = pl_data[counter + 1] - pl_data[counter]\n",
    "    changes.append(change)\n",
    "    if change > highest_profit:\n",
    "        highest_profit = change\n",
    "        high_month = counter + 1\n",
    "    if change < lowest_loss:\n",
    "        lowest_loss = change\n",
    "        low_month = counter + 1\n",
    "    counter += 1\n",
    "    if counter == len(pl_data) - 1:\n",
    "        break\n",
    "\n",
    "\n",
    "# Idenitfy greatest profit and greatest loss months\n",
    "max_profit_month = list(budget_dict.keys())[high_month]\n",
    "min_loss_month = list(budget_dict.keys())[low_month]"
   ]
  },
  {
   "cell_type": "code",
   "execution_count": 20,
   "metadata": {},
   "outputs": [],
   "source": [
    "# Find average of the changes in profit/losses over period\n",
    "average_change = calculate_average(changes)"
   ]
  },
  {
   "cell_type": "code",
   "execution_count": 21,
   "metadata": {},
   "outputs": [
    {
     "name": "stdout",
     "output_type": "stream",
     "text": [
      "Financial Analysis\n",
      "------------------------------\n",
      "Total Months: 86\n",
      "Total: $38382578\n",
      "Average Change: $-2315.12\n",
      "Greatest Increase in Profits: Feb-2012 ($1926159)\n",
      "Greatest Decrease in Profits: Sep-2013 ($-2196167)\n"
     ]
    }
   ],
   "source": [
    "# Print findings\n",
    "print(\"Financial Analysis\")\n",
    "print(\"------------------------------\")\n",
    "print(f\"Total Months: {total_months}\")\n",
    "print(f\"Total: ${total_pl_data}\")\n",
    "print(f\"Average Change: ${average_change}\")\n",
    "print(f\"Greatest Increase in Profits: {max_profit_month} (${highest_profit})\")\n",
    "print(f\"Greatest Decrease in Profits: {min_loss_month} (${lowest_loss})\")"
   ]
  },
  {
   "cell_type": "code",
   "execution_count": 23,
   "metadata": {},
   "outputs": [],
   "source": [
    "# Write findings to a text file\n",
    "\n",
    "output_path = Path(\"financial-analysis.txt\")\n",
    "with open(output_path, \"w\") as output_file:\n",
    "    output_file.write(\"Financial Analysis\\n\")\n",
    "    output_file.write(\"------------------------------\\n\")\n",
    "    output_file.write(f\"Total Months: {total_months}\\n\")\n",
    "    output_file.write(f\"Total: ${total_pl_data}\\n\")\n",
    "    output_file.write(f\"Average Change: ${average_change}\\n\")\n",
    "    output_file.write(f\"Greatest Increase in Profits:\n",
    "                      {max_profit_month} (${highest_profit})\\n\")\n",
    "    output_file.write(f\"Greatest Decrease in Profits: \n",
    "                      {min_loss_month} (${lowest_loss})\")"
   ]
  },
  {
   "cell_type": "code",
   "execution_count": null,
   "metadata": {},
   "outputs": [],
   "source": []
  }
 ],
 "metadata": {
  "kernelspec": {
   "display_name": "Python 3",
   "language": "python",
   "name": "python3"
  },
  "language_info": {
   "codemirror_mode": {
    "name": "ipython",
    "version": 3
   },
   "file_extension": ".py",
   "mimetype": "text/x-python",
   "name": "python",
   "nbconvert_exporter": "python",
   "pygments_lexer": "ipython3",
   "version": "3.7.9"
  }
 },
 "nbformat": 4,
 "nbformat_minor": 4
}
